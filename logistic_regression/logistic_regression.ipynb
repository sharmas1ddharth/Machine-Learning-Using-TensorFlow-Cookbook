{
 "cells": [
  {
   "cell_type": "code",
   "execution_count": 83,
   "id": "0515d25e-1eec-4fec-90c3-f0651a83de66",
   "metadata": {},
   "outputs": [],
   "source": [
    "import tensorflow as tf\n",
    "from tensorflow import keras\n",
    "import pandas as pd\n",
    "import numpy as np"
   ]
  },
  {
   "cell_type": "code",
   "execution_count": 103,
   "id": "8a91ddd3-8261-4928-9425-130116b26bfd",
   "metadata": {},
   "outputs": [],
   "source": [
    "columns = ['sample_code', 'clump_thickness', 'cell_size_uniformity', 'cell_shape_uniformity', 'marginal_adhesion', 'single_epithelial_cell_size',\n",
    "             'bare_nuclei', 'bland_chromatin', 'normal_nucleoli', 'mitoses', 'class']\n",
    "data = pd.read_csv(\"../data/logistic_regression/breast-cancer-wisconsin.data\", header=None, names=columns, na_values=[np.nan, '?'])\n",
    "data = data.fillna(data.median())"
   ]
  },
  {
   "cell_type": "code",
   "execution_count": 104,
   "id": "b972c981-4037-423c-9ddf-99ba89b9e62e",
   "metadata": {},
   "outputs": [],
   "source": [
    "np.random.seed(1)\n",
    "train = data.sample(frac=0.8).copy()\n",
    "y_train = (train['class'] == 4).astype(int)\n",
    "train.drop(['sample_code', 'class'], axis=1, inplace=True)\n",
    "\n",
    "test = data.loc[~data.index.isin(train.index)].copy()\n",
    "y_test = (test['class'] == 4).astype(int)\n",
    "test.drop(['sample_code', 'class'], axis=1, inplace=True)"
   ]
  },
  {
   "cell_type": "code",
   "execution_count": 105,
   "id": "75e1ea6d-27a9-48f7-875c-9ceeea2a8b66",
   "metadata": {},
   "outputs": [],
   "source": [
    "def create_logreg(feature_columns, feature_layer_inputs, optimizer, loss='binary_crossentropy', metrics=['accuracy'], l2=0.01):\n",
    "    regularizer = keras.regularizers.l2(l2)\n",
    "    feature_layer = keras.layers.DenseFeatures(feature_columns)\n",
    "    feature_layer_outputs = feature_layer(feature_layer_inputs)\n",
    "    norm = keras.layers.BatchNormalization()(feature_layer_outputs)\n",
    "    outputs = keras.layers.Dense(1, kernel_initializer='normal', kernel_regularizer=regularizer, activation='sigmoid')(norm)\n",
    "    \n",
    "    model = keras.Model(inputs=[v for v in feature_layer_inputs.values()], outputs=outputs)\n",
    "    model.compile(optimizer=optimizer, loss=loss, metrics=metrics)\n",
    "    return model\n",
    "    "
   ]
  },
  {
   "cell_type": "code",
   "execution_count": 106,
   "id": "1d562d4a-0794-43fd-ba9c-9ca5b92db7a5",
   "metadata": {},
   "outputs": [],
   "source": [
    "def define_feature_column_layers(data, categorical_cols, numeric_cols):\n",
    "    feature_columns = list()\n",
    "    feature_layer_inputs = dict()\n",
    "    \n",
    "    for feature_name in numeric_cols:\n",
    "        feature_columns.append(tf.feature_column.numeric_column(feature_name, dtype=tf.float32))\n",
    "        feature_layer_inputs[feature_name] = tf.keras.Input(shape=(1,), name=feature_name)\n",
    "        \n",
    "    for feature_name in categorical_cols:\n",
    "        vocabulary = data[feature_name].unique()\n",
    "        cat = tf.feature_column.categorical_column_with_vocabulary_list(feature_name, vocabulary)\n",
    "        cat_one_hot = tf.feature_column.indicator_column(cat)\n",
    "        feature_columns.append(cat_one_hot)\n",
    "        feature_layer_inputs[feature_name] = tf.keras.Input(shape=(1,), name=feature_name, dtype=tf.int32)\n",
    "        \n",
    "    return feature_columns, feature_layer_inputs"
   ]
  },
  {
   "cell_type": "code",
   "execution_count": 107,
   "id": "b5f56b3f-5d7b-469c-9b2a-48d7d60e3815",
   "metadata": {},
   "outputs": [],
   "source": [
    "def make_input_fn(data, label, num_epochs=10, shuffle=True, batch_size=256):\n",
    "    def input_function():\n",
    "        ds = tf.data.Dataset.from_tensor_slices((dict(data), label))\n",
    "        if shuffle:\n",
    "            ds = ds.shuffle(1000)\n",
    "        \n",
    "        ds = ds.batch(batch_size).repeat(num_epochs)\n",
    "        return ds\n",
    "    return input_function"
   ]
  },
  {
   "cell_type": "code",
   "execution_count": 108,
   "id": "688f5490-1b5e-4bdd-8c8a-6a65dab3ae1f",
   "metadata": {},
   "outputs": [],
   "source": [
    "import tempfile\n",
    "\n",
    "def canned_keras(model):\n",
    "    model_dir = tempfile.mkdtemp()\n",
    "    keras_estimator = keras.estimator.model_to_estimator(keras_model=model, model_dir=model_dir)\n",
    "    return keras_estimator"
   ]
  },
  {
   "cell_type": "code",
   "execution_count": 109,
   "id": "54774fcc-cefb-4317-a9d1-c00974e82302",
   "metadata": {},
   "outputs": [
    {
     "name": "stdout",
     "output_type": "stream",
     "text": [
      "INFO:tensorflow:Using default config.\n",
      "INFO:tensorflow:Using the Keras model provided.\n"
     ]
    },
    {
     "name": "stderr",
     "output_type": "stream",
     "text": [
      "C:\\Users\\Siddh\\AppData\\Local\\Programs\\Python\\Python310\\lib\\site-packages\\keras\\backend.py:451: UserWarning: `tf.keras.backend.set_learning_phase` is deprecated and will be removed after 2020-10-11. To update it, simply pass a True/False value to the `training` argument of the `__call__` method of your layer or model.\n",
      "  warnings.warn(\n"
     ]
    },
    {
     "name": "stdout",
     "output_type": "stream",
     "text": [
      "INFO:tensorflow:Using config: {'_model_dir': 'C:\\\\Users\\\\Siddh\\\\AppData\\\\Local\\\\Temp\\\\tmpb527bf71', '_tf_random_seed': None, '_save_summary_steps': 100, '_save_checkpoints_steps': None, '_save_checkpoints_secs': 600, '_session_config': allow_soft_placement: true\n",
      "graph_options {\n",
      "  rewrite_options {\n",
      "    meta_optimizer_iterations: ONE\n",
      "  }\n",
      "}\n",
      ", '_keep_checkpoint_max': 5, '_keep_checkpoint_every_n_hours': 10000, '_log_step_count_steps': 100, '_train_distribute': None, '_device_fn': None, '_protocol': None, '_eval_distribute': None, '_experimental_distribute': None, '_experimental_max_worker_delay_secs': None, '_session_creation_timeout_secs': 7200, '_checkpoint_save_graph_def': True, '_service': None, '_cluster_spec': ClusterSpec({}), '_task_type': 'worker', '_task_id': 0, '_global_id_in_cluster': 0, '_master': '', '_evaluation_master': '', '_is_chief': True, '_num_ps_replicas': 0, '_num_worker_replicas': 1}\n"
     ]
    }
   ],
   "source": [
    "categorical_cols = []\n",
    "numeric_cols = ['clump_thickness', 'cell_size_uniformity', 'cell_shape_uniformity','marginal_adhesion', 'single_epithelial_cell_size', \n",
    "                 'bare_nuclei', 'bland_chromatin','normal_nucleoli', 'mitoses']\n",
    "\n",
    "feature_columns, feature_layer_inputs = define_feature_column_layers(data, categorical_cols, numeric_cols)\n",
    "optimizer = keras.optimizers.Ftrl(learning_rate=0.007)\n",
    "model = create_logreg(feature_columns, feature_layer_inputs, optimizer)\n",
    "estimator = canned_keras(model)\n",
    "train_input_fn = make_input_fn(train, y_train, num_epochs=300, batch_size=32)\n",
    "test_input_fn = make_input_fn(test, y_test, num_epochs=1, shuffle=False)"
   ]
  },
  {
   "cell_type": "code",
   "execution_count": 110,
   "id": "9642d09f-f286-4d3a-80bd-c12091265dda",
   "metadata": {},
   "outputs": [
    {
     "name": "stdout",
     "output_type": "stream",
     "text": [
      "INFO:tensorflow:Calling model_fn.\n"
     ]
    },
    {
     "name": "stderr",
     "output_type": "stream",
     "text": [
      "C:\\Users\\Siddh\\AppData\\Local\\Programs\\Python\\Python310\\lib\\site-packages\\keras\\backend.py:451: UserWarning: `tf.keras.backend.set_learning_phase` is deprecated and will be removed after 2020-10-11. To update it, simply pass a True/False value to the `training` argument of the `__call__` method of your layer or model.\n",
      "  warnings.warn(\n"
     ]
    },
    {
     "name": "stdout",
     "output_type": "stream",
     "text": [
      "INFO:tensorflow:Done calling model_fn.\n",
      "INFO:tensorflow:Warm-starting with WarmStartSettings: WarmStartSettings(ckpt_to_initialize_from='C:\\\\Users\\\\Siddh\\\\AppData\\\\Local\\\\Temp\\\\tmpb527bf71\\\\keras\\\\keras_model.ckpt', vars_to_warm_start='.*', var_name_to_vocab_info={}, var_name_to_prev_var_name={})\n",
      "INFO:tensorflow:Warm-starting from: C:\\Users\\Siddh\\AppData\\Local\\Temp\\tmpb527bf71\\keras\\keras_model.ckpt\n",
      "INFO:tensorflow:Warm-starting variables only in TRAINABLE_VARIABLES.\n",
      "INFO:tensorflow:Warm-started 4 variables.\n",
      "INFO:tensorflow:Create CheckpointSaverHook.\n",
      "INFO:tensorflow:Graph was finalized.\n",
      "INFO:tensorflow:Running local_init_op.\n",
      "INFO:tensorflow:Done running local_init_op.\n",
      "INFO:tensorflow:Calling checkpoint listeners before saving checkpoint 0...\n",
      "INFO:tensorflow:Saving checkpoints for 0 into C:\\Users\\Siddh\\AppData\\Local\\Temp\\tmpb527bf71\\model.ckpt.\n",
      "INFO:tensorflow:Calling checkpoint listeners after saving checkpoint 0...\n",
      "INFO:tensorflow:loss = 0.674492, step = 0\n",
      "INFO:tensorflow:global_step/sec: 538.156\n",
      "INFO:tensorflow:loss = 0.6940525, step = 100 (0.188 sec)\n",
      "INFO:tensorflow:global_step/sec: 865.619\n",
      "INFO:tensorflow:loss = 0.6768425, step = 200 (0.115 sec)\n",
      "INFO:tensorflow:global_step/sec: 896.642\n",
      "INFO:tensorflow:loss = 0.6715493, step = 300 (0.112 sec)\n",
      "INFO:tensorflow:global_step/sec: 853.286\n",
      "INFO:tensorflow:loss = 0.6493911, step = 400 (0.117 sec)\n",
      "INFO:tensorflow:global_step/sec: 812.705\n",
      "INFO:tensorflow:loss = 0.65537053, step = 500 (0.124 sec)\n",
      "INFO:tensorflow:global_step/sec: 866.697\n",
      "INFO:tensorflow:loss = 0.6178561, step = 600 (0.114 sec)\n",
      "INFO:tensorflow:global_step/sec: 913.052\n",
      "INFO:tensorflow:loss = 0.60449594, step = 700 (0.111 sec)\n",
      "INFO:tensorflow:global_step/sec: 883.021\n",
      "INFO:tensorflow:loss = 0.52906805, step = 800 (0.112 sec)\n",
      "INFO:tensorflow:global_step/sec: 889.5\n",
      "INFO:tensorflow:loss = 0.45414042, step = 900 (0.113 sec)\n",
      "INFO:tensorflow:global_step/sec: 858.05\n",
      "INFO:tensorflow:loss = 0.415573, step = 1000 (0.117 sec)\n",
      "INFO:tensorflow:global_step/sec: 892.312\n",
      "INFO:tensorflow:loss = 0.38417417, step = 1100 (0.112 sec)\n",
      "INFO:tensorflow:global_step/sec: 906.839\n",
      "INFO:tensorflow:loss = 0.34910366, step = 1200 (0.109 sec)\n",
      "INFO:tensorflow:global_step/sec: 853.535\n",
      "INFO:tensorflow:loss = 0.27926928, step = 1300 (0.117 sec)\n",
      "INFO:tensorflow:global_step/sec: 908.7\n",
      "INFO:tensorflow:loss = 0.33322504, step = 1400 (0.111 sec)\n",
      "INFO:tensorflow:global_step/sec: 881.656\n",
      "INFO:tensorflow:loss = 0.2553139, step = 1500 (0.112 sec)\n",
      "INFO:tensorflow:global_step/sec: 888.637\n",
      "INFO:tensorflow:loss = 0.29882947, step = 1600 (0.113 sec)\n",
      "INFO:tensorflow:global_step/sec: 891.931\n",
      "INFO:tensorflow:loss = 0.30239344, step = 1700 (0.113 sec)\n",
      "INFO:tensorflow:global_step/sec: 850.81\n",
      "INFO:tensorflow:loss = 0.2652154, step = 1800 (0.118 sec)\n",
      "INFO:tensorflow:global_step/sec: 866.409\n",
      "INFO:tensorflow:loss = 0.1861706, step = 1900 (0.114 sec)\n",
      "INFO:tensorflow:global_step/sec: 898.813\n",
      "INFO:tensorflow:loss = 0.26978523, step = 2000 (0.112 sec)\n",
      "INFO:tensorflow:global_step/sec: 915.823\n",
      "INFO:tensorflow:loss = 0.22432314, step = 2100 (0.109 sec)\n",
      "INFO:tensorflow:global_step/sec: 891.201\n",
      "INFO:tensorflow:loss = 0.20406118, step = 2200 (0.111 sec)\n",
      "INFO:tensorflow:global_step/sec: 898.973\n",
      "INFO:tensorflow:loss = 0.24629958, step = 2300 (0.112 sec)\n",
      "INFO:tensorflow:global_step/sec: 880.906\n",
      "INFO:tensorflow:loss = 0.15137146, step = 2400 (0.114 sec)\n",
      "INFO:tensorflow:global_step/sec: 850.768\n",
      "INFO:tensorflow:loss = 0.20041502, step = 2500 (0.117 sec)\n",
      "INFO:tensorflow:global_step/sec: 853.009\n",
      "INFO:tensorflow:loss = 0.13004825, step = 2600 (0.118 sec)\n",
      "INFO:tensorflow:global_step/sec: 898.935\n",
      "INFO:tensorflow:loss = 0.1775949, step = 2700 (0.110 sec)\n",
      "INFO:tensorflow:global_step/sec: 904.774\n",
      "INFO:tensorflow:loss = 0.15395607, step = 2800 (0.111 sec)\n",
      "INFO:tensorflow:global_step/sec: 904.818\n",
      "INFO:tensorflow:loss = 0.14003631, step = 2900 (0.112 sec)\n",
      "INFO:tensorflow:global_step/sec: 890.69\n",
      "INFO:tensorflow:loss = 0.15968864, step = 3000 (0.112 sec)\n",
      "INFO:tensorflow:global_step/sec: 898.388\n",
      "INFO:tensorflow:loss = 0.18676601, step = 3100 (0.110 sec)\n",
      "INFO:tensorflow:global_step/sec: 925.284\n",
      "INFO:tensorflow:loss = 0.1629336, step = 3200 (0.109 sec)\n",
      "INFO:tensorflow:global_step/sec: 891.686\n",
      "INFO:tensorflow:loss = 0.19967616, step = 3300 (0.112 sec)\n",
      "INFO:tensorflow:global_step/sec: 713.945\n",
      "INFO:tensorflow:loss = 0.14140484, step = 3400 (0.139 sec)\n",
      "INFO:tensorflow:global_step/sec: 740.264\n",
      "INFO:tensorflow:loss = 0.12584129, step = 3500 (0.135 sec)\n",
      "INFO:tensorflow:global_step/sec: 915.142\n",
      "INFO:tensorflow:loss = 0.1366196, step = 3600 (0.110 sec)\n",
      "INFO:tensorflow:global_step/sec: 904.713\n",
      "INFO:tensorflow:loss = 0.113009535, step = 3700 (0.111 sec)\n",
      "INFO:tensorflow:global_step/sec: 641.704\n",
      "INFO:tensorflow:loss = 0.15278591, step = 3800 (0.156 sec)\n",
      "INFO:tensorflow:global_step/sec: 798.635\n",
      "INFO:tensorflow:loss = 0.14166127, step = 3900 (0.124 sec)\n",
      "INFO:tensorflow:global_step/sec: 861.218\n",
      "INFO:tensorflow:loss = 0.2021717, step = 4000 (0.116 sec)\n",
      "INFO:tensorflow:global_step/sec: 883.685\n",
      "INFO:tensorflow:loss = 0.1195032, step = 4100 (0.114 sec)\n",
      "INFO:tensorflow:global_step/sec: 819.264\n",
      "INFO:tensorflow:loss = 0.24688682, step = 4200 (0.122 sec)\n",
      "INFO:tensorflow:global_step/sec: 929.904\n",
      "INFO:tensorflow:loss = 0.21022984, step = 4300 (0.107 sec)\n",
      "INFO:tensorflow:global_step/sec: 850.837\n",
      "INFO:tensorflow:loss = 0.20487674, step = 4400 (0.119 sec)\n",
      "INFO:tensorflow:global_step/sec: 853.851\n",
      "INFO:tensorflow:loss = 0.2010225, step = 4500 (0.116 sec)\n",
      "INFO:tensorflow:global_step/sec: 915.981\n",
      "INFO:tensorflow:loss = 0.19012092, step = 4600 (0.109 sec)\n",
      "INFO:tensorflow:global_step/sec: 904.735\n",
      "INFO:tensorflow:loss = 0.10340012, step = 4700 (0.112 sec)\n",
      "INFO:tensorflow:global_step/sec: 873.168\n",
      "INFO:tensorflow:loss = 0.16527249, step = 4800 (0.115 sec)\n",
      "INFO:tensorflow:global_step/sec: 875.02\n",
      "INFO:tensorflow:loss = 0.11001113, step = 4900 (0.113 sec)\n",
      "INFO:tensorflow:global_step/sec: 907.915\n",
      "INFO:tensorflow:loss = 0.09260253, step = 5000 (0.110 sec)\n",
      "INFO:tensorflow:global_step/sec: 895.518\n",
      "INFO:tensorflow:loss = 0.12632701, step = 5100 (0.112 sec)\n",
      "INFO:tensorflow:global_step/sec: 912.917\n",
      "INFO:tensorflow:loss = 0.23970193, step = 5200 (0.110 sec)\n",
      "INFO:tensorflow:global_step/sec: 912.299\n",
      "INFO:tensorflow:loss = 0.21652569, step = 5300 (0.111 sec)\n",
      "INFO:tensorflow:Calling checkpoint listeners before saving checkpoint 5400...\n",
      "INFO:tensorflow:Saving checkpoints for 5400 into C:\\Users\\Siddh\\AppData\\Local\\Temp\\tmpb527bf71\\model.ckpt.\n",
      "INFO:tensorflow:Calling checkpoint listeners after saving checkpoint 5400...\n",
      "INFO:tensorflow:Loss for final step: 0.069687456.\n"
     ]
    },
    {
     "data": {
      "text/plain": [
       "<tensorflow_estimator.python.estimator.estimator.EstimatorV2 at 0x248f748b070>"
      ]
     },
     "execution_count": 110,
     "metadata": {},
     "output_type": "execute_result"
    }
   ],
   "source": [
    "estimator.train(train_input_fn)"
   ]
  },
  {
   "cell_type": "code",
   "execution_count": 113,
   "id": "9ecdb936-c6ca-4f61-8522-244f5320c587",
   "metadata": {},
   "outputs": [
    {
     "name": "stdout",
     "output_type": "stream",
     "text": [
      "INFO:tensorflow:Calling model_fn.\n",
      "INFO:tensorflow:Done calling model_fn.\n",
      "INFO:tensorflow:Starting evaluation at 2022-10-31T15:28:58\n",
      "INFO:tensorflow:Graph was finalized.\n"
     ]
    },
    {
     "name": "stderr",
     "output_type": "stream",
     "text": [
      "C:\\Users\\Siddh\\AppData\\Local\\Programs\\Python\\Python310\\lib\\site-packages\\keras\\backend.py:451: UserWarning: `tf.keras.backend.set_learning_phase` is deprecated and will be removed after 2020-10-11. To update it, simply pass a True/False value to the `training` argument of the `__call__` method of your layer or model.\n",
      "  warnings.warn(\n",
      "C:\\Users\\Siddh\\AppData\\Local\\Programs\\Python\\Python310\\lib\\site-packages\\keras\\engine\\training_v1.py:2332: UserWarning: `Model.state_updates` will be removed in a future version. This property should not be used in TensorFlow 2.0, as `updates` are applied automatically.\n",
      "  updates = self.state_updates\n"
     ]
    },
    {
     "name": "stdout",
     "output_type": "stream",
     "text": [
      "INFO:tensorflow:Restoring parameters from C:\\Users\\Siddh\\AppData\\Local\\Temp\\tmpb527bf71\\model.ckpt-5400\n",
      "INFO:tensorflow:Running local_init_op.\n",
      "INFO:tensorflow:Done running local_init_op.\n",
      "INFO:tensorflow:Inference Time : 0.17621s\n",
      "INFO:tensorflow:Finished evaluation at 2022-10-31-15:28:59\n",
      "INFO:tensorflow:Saving dict for global step 5400: accuracy = 0.95, global_step = 5400, loss = 0.16435947\n",
      "INFO:tensorflow:Saving 'checkpoint_path' summary for global step 5400: C:\\Users\\Siddh\\AppData\\Local\\Temp\\tmpb527bf71\\model.ckpt-5400\n"
     ]
    },
    {
     "data": {
      "text/plain": [
       "{'accuracy': 0.95, 'loss': 0.16435947, 'global_step': 5400}"
      ]
     },
     "execution_count": 113,
     "metadata": {},
     "output_type": "execute_result"
    }
   ],
   "source": [
    "estimator.evaluate(test_input_fn)"
   ]
  },
  {
   "cell_type": "code",
   "execution_count": null,
   "id": "b72581f4-6554-42ac-a5dd-5144fa790cc3",
   "metadata": {},
   "outputs": [],
   "source": []
  }
 ],
 "metadata": {
  "kernelspec": {
   "display_name": "Python 3 (ipykernel)",
   "language": "python",
   "name": "python3"
  },
  "language_info": {
   "codemirror_mode": {
    "name": "ipython",
    "version": 3
   },
   "file_extension": ".py",
   "mimetype": "text/x-python",
   "name": "python",
   "nbconvert_exporter": "python",
   "pygments_lexer": "ipython3",
   "version": "3.11.0"
  }
 },
 "nbformat": 4,
 "nbformat_minor": 5
}
