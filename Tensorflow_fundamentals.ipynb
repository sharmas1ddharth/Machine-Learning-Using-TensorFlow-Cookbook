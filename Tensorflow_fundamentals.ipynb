{
 "cells": [
  {
   "cell_type": "code",
   "execution_count": 34,
   "id": "c126252e-ad04-4baf-a5c9-59e0a12dcdb4",
   "metadata": {},
   "outputs": [],
   "source": [
    "import tensorflow as tf\n",
    "import numpy as np\n",
    "import matplotlib.pyplot as plt"
   ]
  },
  {
   "cell_type": "code",
   "execution_count": 35,
   "id": "9885dd1a-d3a7-429e-8971-9bd4ff355940",
   "metadata": {},
   "outputs": [
    {
     "name": "stdout",
     "output_type": "stream",
     "text": [
      "3\n",
      "6\n",
      "9\n",
      "12\n",
      "15\n"
     ]
    }
   ],
   "source": [
    "x_vals = np.array([1, 2, 3, 4, 5])\n",
    "m_constant = tf.constant(3)\n",
    "op = tf.multiply(x_vals, m_constant)\n",
    "\n",
    "for i in op:\n",
    "    print(i.numpy())"
   ]
  },
  {
   "cell_type": "code",
   "execution_count": 36,
   "id": "9056ddf0-017b-4b8d-982f-d838ce3cb5d3",
   "metadata": {},
   "outputs": [],
   "source": [
    "x_vals = tf.linspace(-1., 1., 500)\n",
    "target = tf.constant(0.)"
   ]
  },
  {
   "cell_type": "markdown",
   "id": "98b1ecc6-510a-4ba7-a239-c6b1e1245463",
   "metadata": {},
   "source": [
    "## Loss Function for Regression"
   ]
  },
  {
   "cell_type": "code",
   "execution_count": 37,
   "id": "e93a6ce8-566c-42a3-bd88-35012797bf71",
   "metadata": {},
   "outputs": [],
   "source": [
    "class RegLoss:\n",
    "    def __init__(self, y_true, y_pred):\n",
    "        self.y_true = y_true\n",
    "        self.y_pred = y_pred\n",
    "        \n",
    "    def l2(self):\n",
    "        return tf.square(self.y_true - self.y_pred)\n",
    "    \n",
    "    def l1(self):\n",
    "        return tf.abs(self.y_true - self.y_pred)\n",
    "    \n",
    "    def phuber(self, delta:float = 0.25):\n",
    "        delta1 = tf.constant(delta)\n",
    "        return tf.multiply(tf.square(delta1), tf.sqrt(1. + tf.square((self.y_true - self.y_pred)/delta1)) - 1.)\n",
    "    "
   ]
  },
  {
   "cell_type": "code",
   "execution_count": 42,
   "id": "9f886daf-c7a3-48fc-91b2-313170869bbc",
   "metadata": {},
   "outputs": [],
   "source": [
    "x_vals_r = tf.linspace(-1., 1., 500)\n",
    "target_r = tf.constant(0.)"
   ]
  },
  {
   "cell_type": "code",
   "execution_count": 43,
   "id": "435243c7-27ec-4eb2-bec7-380e5931e930",
   "metadata": {},
   "outputs": [
    {
     "data": {
      "image/png": "[encoded data removed]",
      "text/plain": [
       "<Figure size 432x288 with 1 Axes>"
      ]
     },
     "metadata": {
      "needs_background": "light"
     },
     "output_type": "display_data"
    }
   ],
   "source": [
    "r = RegLoss(target_r, x_vals_r)\n",
    "\n",
    "funcs = [(r.l2(), 'b-', 'l2 loss'),\n",
    "        (r.l1(), 'r--', 'l1 loss'),\n",
    "        (r.phuber(0.25), 'k-', 'phuber 0.25'),\n",
    "        (r.phuber(5.0), 'g:', 'phuber 5.0')]\n",
    "\n",
    "for func, line_type, func_name in funcs:\n",
    "    plt.plot(x_vals_r, func, line_type, label=func_name)\n",
    "    \n",
    "plt.ylim(-0.2, 0.4)\n",
    "plt.legend()\n",
    "plt.show()"
   ]
  },
  {
   "cell_type": "markdown",
   "id": "1f0a04f3-c5da-4c34-98b2-0a37d7a1d52f",
   "metadata": {},
   "source": [
    "# Loss Function for Classification"
   ]
  },
  {
   "cell_type": "code",
   "execution_count": 44,
   "id": "10602f87-df3c-4302-be55-2e894f97c797",
   "metadata": {},
   "outputs": [
    {
     "data": {
      "text/plain": [
       "<tf.Tensor: shape=(500,), dtype=float32, numpy=\n",
       "array([1., 1., 1., 1., 1., 1., 1., 1., 1., 1., 1., 1., 1., 1., 1., 1., 1.,\n",
       "       1., 1., 1., 1., 1., 1., 1., 1., 1., 1., 1., 1., 1., 1., 1., 1., 1.,\n",
       "       1., 1., 1., 1., 1., 1., 1., 1., 1., 1., 1., 1., 1., 1., 1., 1., 1.,\n",
       "       1., 1., 1., 1., 1., 1., 1., 1., 1., 1., 1., 1., 1., 1., 1., 1., 1.,\n",
       "       1., 1., 1., 1., 1., 1., 1., 1., 1., 1., 1., 1., 1., 1., 1., 1., 1.,\n",
       "       1., 1., 1., 1., 1., 1., 1., 1., 1., 1., 1., 1., 1., 1., 1., 1., 1.,\n",
       "       1., 1., 1., 1., 1., 1., 1., 1., 1., 1., 1., 1., 1., 1., 1., 1., 1.,\n",
       "       1., 1., 1., 1., 1., 1., 1., 1., 1., 1., 1., 1., 1., 1., 1., 1., 1.,\n",
       "       1., 1., 1., 1., 1., 1., 1., 1., 1., 1., 1., 1., 1., 1., 1., 1., 1.,\n",
       "       1., 1., 1., 1., 1., 1., 1., 1., 1., 1., 1., 1., 1., 1., 1., 1., 1.,\n",
       "       1., 1., 1., 1., 1., 1., 1., 1., 1., 1., 1., 1., 1., 1., 1., 1., 1.,\n",
       "       1., 1., 1., 1., 1., 1., 1., 1., 1., 1., 1., 1., 1., 1., 1., 1., 1.,\n",
       "       1., 1., 1., 1., 1., 1., 1., 1., 1., 1., 1., 1., 1., 1., 1., 1., 1.,\n",
       "       1., 1., 1., 1., 1., 1., 1., 1., 1., 1., 1., 1., 1., 1., 1., 1., 1.,\n",
       "       1., 1., 1., 1., 1., 1., 1., 1., 1., 1., 1., 1., 1., 1., 1., 1., 1.,\n",
       "       1., 1., 1., 1., 1., 1., 1., 1., 1., 1., 1., 1., 1., 1., 1., 1., 1.,\n",
       "       1., 1., 1., 1., 1., 1., 1., 1., 1., 1., 1., 1., 1., 1., 1., 1., 1.,\n",
       "       1., 1., 1., 1., 1., 1., 1., 1., 1., 1., 1., 1., 1., 1., 1., 1., 1.,\n",
       "       1., 1., 1., 1., 1., 1., 1., 1., 1., 1., 1., 1., 1., 1., 1., 1., 1.,\n",
       "       1., 1., 1., 1., 1., 1., 1., 1., 1., 1., 1., 1., 1., 1., 1., 1., 1.,\n",
       "       1., 1., 1., 1., 1., 1., 1., 1., 1., 1., 1., 1., 1., 1., 1., 1., 1.,\n",
       "       1., 1., 1., 1., 1., 1., 1., 1., 1., 1., 1., 1., 1., 1., 1., 1., 1.,\n",
       "       1., 1., 1., 1., 1., 1., 1., 1., 1., 1., 1., 1., 1., 1., 1., 1., 1.,\n",
       "       1., 1., 1., 1., 1., 1., 1., 1., 1., 1., 1., 1., 1., 1., 1., 1., 1.,\n",
       "       1., 1., 1., 1., 1., 1., 1., 1., 1., 1., 1., 1., 1., 1., 1., 1., 1.,\n",
       "       1., 1., 1., 1., 1., 1., 1., 1., 1., 1., 1., 1., 1., 1., 1., 1., 1.,\n",
       "       1., 1., 1., 1., 1., 1., 1., 1., 1., 1., 1., 1., 1., 1., 1., 1., 1.,\n",
       "       1., 1., 1., 1., 1., 1., 1., 1., 1., 1., 1., 1., 1., 1., 1., 1., 1.,\n",
       "       1., 1., 1., 1., 1., 1., 1., 1., 1., 1., 1., 1., 1., 1., 1., 1., 1.,\n",
       "       1., 1., 1., 1., 1., 1., 1.], dtype=float32)>"
      ]
     },
     "execution_count": 44,
     "metadata": {},
     "output_type": "execute_result"
    }
   ],
   "source": [
    "x_vals = tf.linspace(-3., 5., 500)\n",
    "target = tf.fill([500], 1.)\n",
    "target"
   ]
  },
  {
   "cell_type": "code",
   "execution_count": 45,
   "id": "4921b781-f35e-4fe3-86b0-d83d8b48b16c",
   "metadata": {},
   "outputs": [],
   "source": [
    "class ClasLoss:\n",
    "    def __init__(self, y_true, y_pred):\n",
    "        self.y_true = y_true\n",
    "        self.y_pred = y_pred\n",
    "        \n",
    "    def hinge(self):\n",
    "        return tf.maximum(0., 1. - tf.multiply(self.y_true, self.y_pred))\n",
    "    \n",
    "    def cross_entropy(self):\n",
    "        return (-tf.multiply(self.y_true, tf.math.log(self.y_pred) - tf.multiply((1 - self.y_true), (tf.math.log(1 - self.y_pred)))))\n",
    "    \n",
    "    def cross_entropy_sigmoid(self):\n",
    "        return tf.nn.sigmoid_cross_entropy_with_logits(labels=self.y_true, logits=self.y_pred)\n",
    "    \n",
    "    def cross_entropy_weighted(self):\n",
    "        weight = tf.constant(0.5)\n",
    "        return tf.nn.sigmoid_cross_entropy_with_logits(labels=self.y_true, logits=self.y_pred)\n",
    "        "
   ]
  },
  {
   "cell_type": "code",
   "execution_count": 46,
   "id": "c8ba65eb-c97f-4976-b78c-1a3fabc92db6",
   "metadata": {},
   "outputs": [],
   "source": [
    "x_vals_c = tf.linspace(-3., 5., 500)\n",
    "target_c = tf.fill([500], 1.)"
   ]
  },
  {
   "cell_type": "code",
   "execution_count": 47,
   "id": "d6e2b753-3552-4309-a860-e51d2d843493",
   "metadata": {},
   "outputs": [],
   "source": [
    "c = ClasLoss(target_c, x_vals_c)"
   ]
  },
  {
   "cell_type": "code",
   "execution_count": 48,
   "id": "5f2d32ab-d860-4af3-bd05-8db1040685c1",
   "metadata": {},
   "outputs": [
    {
     "data": {
      "image/png": "[encoded data removed]",
      "text/plain": [
       "<Figure size 432x288 with 1 Axes>"
      ]
     },
     "metadata": {
      "needs_background": "light"
     },
     "output_type": "display_data"
    }
   ],
   "source": [
    "funcs = [(c.hinge(), 'b-', 'hinge loss'),\n",
    "        (c.cross_entropy(), 'r--', 'cross entropy loss'),\n",
    "        (c.cross_entropy_sigmoid(), 'k-', 'cross entropy sigmoid'),\n",
    "        (c.cross_entropy_weighted(), 'g:', 'cross entropy weighted')]\n",
    "\n",
    "for func, line_type, func_name in funcs:\n",
    "    plt.plot(x_vals_r, func, line_type, label=func_name)\n",
    "    \n",
    "plt.ylim(-0.2, 0.4)\n",
    "plt.legend()\n",
    "plt.show()"
   ]
  },
  {
   "cell_type": "markdown",
   "id": "fbe465e0-676b-4d21-8537-d5dde60720fb",
   "metadata": {},
   "source": [
    "# Regression Backpropagation"
   ]
  },
  {
   "cell_type": "code",
   "execution_count": 49,
   "id": "4ad5bf3d-8149-4449-93c0-119f93807690",
   "metadata": {},
   "outputs": [],
   "source": [
    "import numpy as np\n",
    "import tensorflow as tf"
   ]
  },
  {
   "cell_type": "code",
   "execution_count": 66,
   "id": "1134e34c-7f03-47bb-b058-d923e85f6809",
   "metadata": {},
   "outputs": [],
   "source": [
    "np.random.seed(0)\n",
    "x_vals = np.random.normal(1, 0.1, 100).astype(np.float32)\n",
    "y_vals = (x_vals * np.random.normal(1, 0.5, 100)).astype(np.float32)\n"
   ]
  },
  {
   "cell_type": "code",
   "execution_count": 67,
   "id": "9a67f207-0a0e-4263-a539-c11cb7d433f6",
   "metadata": {},
   "outputs": [
    {
     "data": {
      "image/png": "[encoded data removed]",
      "text/plain": [
       "<Figure size 432x288 with 1 Axes>"
      ]
     },
     "metadata": {
      "needs_background": "light"
     },
     "output_type": "display_data"
    }
   ],
   "source": [
    "plt.scatter(x_vals, y_vals)\n",
    "plt.show()"
   ]
  },
  {
   "cell_type": "code",
   "execution_count": 69,
   "id": "4ce05fc9-61e4-4e4e-a872-2e6319dcdfd3",
   "metadata": {},
   "outputs": [
    {
     "name": "stdout",
     "output_type": "stream",
     "text": [
      "Step: 25, Weights: [-0.4171495], Bias: [1.0622234]\n",
      "loss: 1.191279411315918\n",
      "Step: 50, Weights: [-0.23220971], Bias: [1.2375932]\n",
      "loss: 0.1513185352087021\n",
      "Step: 75, Weights: [-0.20322767], Bias: [1.2384508]\n",
      "loss: 0.08278058469295502\n",
      "Step: 100, Weights: [-0.17878215], Bias: [1.2352996]\n",
      "loss: 0.734293520450592\n"
     ]
    }
   ],
   "source": [
    "opt = tf.optimizers.SGD(learning_rate=0.02)\n",
    "tf.random.set_seed(1)\n",
    "np.random.seed(0)\n",
    "weights = tf.Variable(tf.random.normal(shape=[1]))\n",
    "bias = tf.Variable(tf.random.normal(shape=[1]))\n",
    "history = list()\n",
    "\n",
    "def output(X:float, weights:float, bias:float) -> float:\n",
    "    return tf.add(tf.multiply(X, weights), bias)\n",
    "\n",
    "def loss(y_true:np.array, y_pred:np.array) -> float:\n",
    "    return tf.reduce_mean(tf.square(y_true - y_pred))\n",
    "\n",
    "\n",
    "for i in range(100):\n",
    "    rand_index = np.random.choice(100)\n",
    "    rand_x = x_vals[rand_index]\n",
    "    rand_y = y_vals[rand_index]\n",
    "    \n",
    "    with tf.GradientTape() as tape:\n",
    "        predictions = output(rand_x, weights, bias)\n",
    "        loss_ = loss(rand_y, predictions)\n",
    "    \n",
    "    history.append(loss_.numpy())\n",
    "    gradients = tape.gradient(loss_, [weights, bias])\n",
    "    opt.apply_gradients(zip(gradients, [weights, bias]))\n",
    "    \n",
    "    if (i+1) % 25 == 0:\n",
    "        print(f\"Step: {i+1}, Weights: {weights.numpy()}, Bias: {bias.numpy()}\")\n",
    "        print(f\"loss: {loss_.numpy()}\")"
   ]
  },
  {
   "cell_type": "code",
   "execution_count": 70,
   "id": "22248aaa-987c-451b-a089-e75abcb2fe2b",
   "metadata": {},
   "outputs": [
    {
     "data": {
      "image/png": "[encoded data removed]",
      "text/plain": [
       "<Figure size 432x288 with 1 Axes>"
      ]
     },
     "metadata": {
      "needs_background": "light"
     },
     "output_type": "display_data"
    }
   ],
   "source": [
    "plt.plot(history)\n",
    "plt.xlabel(\"iterations\")\n",
    "plt.ylabel(\"loss\")\n",
    "plt.show()"
   ]
  },
  {
   "cell_type": "markdown",
   "id": "72faa4c1-970a-4457-a9ca-9022a5c46387",
   "metadata": {},
   "source": [
    "# Classification Backpropagation"
   ]
  },
  {
   "cell_type": "code",
   "execution_count": 54,
   "id": "7f9589dc-6948-4085-95c9-f224fe98a935",
   "metadata": {},
   "outputs": [],
   "source": [
    "np.random.seed(0)\n",
    "x_vals = np.concatenate(\n",
    "                        (np.random.normal(-3, 1, 50),\n",
    "                        (np.random.normal(3, 1, 50)))\n",
    "                        ).astype(np.float32)\n",
    "y_vals = np.concatenate(\n",
    "                        (np.repeat(0., 50),\n",
    "                        np.repeat(1., 50))\n",
    "                        ).astype(np.float32)"
   ]
  },
  {
   "cell_type": "code",
   "execution_count": 55,
   "id": "7b0c4994-896d-420f-b161-53e459d56627",
   "metadata": {},
   "outputs": [
    {
     "data": {
      "image/png": "[encoded data removed]",
      "text/plain": [
       "<Figure size 432x288 with 1 Axes>"
      ]
     },
     "metadata": {
      "needs_background": "light"
     },
     "output_type": "display_data"
    }
   ],
   "source": [
    "plt.hist(x_vals[y_vals==1], color=\"red\")\n",
    "plt.hist(x_vals[y_vals==0], color=\"blue\")\n",
    "plt.show()"
   ]
  },
  {
   "cell_type": "code",
   "execution_count": 56,
   "id": "9c2e2311-1421-4abc-ad0c-0d30d6ea9f43",
   "metadata": {},
   "outputs": [],
   "source": [
    "def loss_func(y_true, y_pred):\n",
    "    return tf.reduce_mean(tf.nn.sigmoid_cross_entropy_with_logits(labels=y_true, logits=y_pred))\n",
    "\n",
    "\n",
    "def output(X:float, weights:float, bias:float) -> float:\n",
    "    return tf.add(tf.multiply(X, weights), bias)"
   ]
  },
  {
   "cell_type": "code",
   "execution_count": 72,
   "id": "c58481f5-d927-4323-bdb9-e95a1746dca6",
   "metadata": {},
   "outputs": [
    {
     "name": "stdout",
     "output_type": "stream",
     "text": [
      "Step: 25, Weights: [-0.955734], Bias: [1.3716671]\n",
      "loss: 0.41680026054382324\n",
      "Step: 50, Weights: [-0.7516331], Bias: [1.5730394]\n",
      "loss: 0.09565877914428711\n",
      "Step: 75, Weights: [-0.5578982], Bias: [1.7509222]\n",
      "loss: -0.012620806694030762\n",
      "Step: 100, Weights: [-0.37869754], Bias: [1.917452]\n",
      "loss: 1.3350780010223389\n"
     ]
    }
   ],
   "source": [
    "tf.random.set_seed(1)\n",
    "np.random.seed(0)\n",
    "weights = tf.Variable(tf.random.normal(shape=[1])) \n",
    "biases = tf.Variable(tf.random.normal(shape=[1])) \n",
    "history = list()\n",
    "opt = tf.optimizers.SGD(learning_rate=0.02)\n",
    "\n",
    "for i in range(100):\n",
    "    rand_index = np.random.choice(100)\n",
    "    rand_x = [x_vals[rand_index]]\n",
    "    rand_y = [y_vals[rand_index]]\n",
    "    \n",
    "    with tf.GradientTape() as tape:\n",
    "        predictions = output(rand_x, weights, bias)\n",
    "        loss_ = loss_func(rand_y, predictions)\n",
    "    history.append(loss_.numpy())\n",
    "    gradients = tape.gradient(loss_, [weights, bias])\n",
    "    opt.apply_gradients(zip(gradients, [weights, bias]))\n",
    "    \n",
    "    if (i+1) % 25 == 0:\n",
    "        print(f\"Step: {i+1}, Weights: {weights.numpy()}, Bias: {bias.numpy()}\")\n",
    "        print(f\"loss: {loss_.numpy()}\")"
   ]
  },
  {
   "cell_type": "code",
   "execution_count": 74,
   "id": "f9248a13-89f5-47d6-8ac6-50d5ebd7e7f9",
   "metadata": {},
   "outputs": [
    {
     "data": {
      "image/png": "[encoded data removed]",
      "text/plain": [
       "<Figure size 432x288 with 1 Axes>"
      ]
     },
     "metadata": {
      "needs_background": "light"
     },
     "output_type": "display_data"
    }
   ],
   "source": [
    "plt.plot(history)\n",
    "plt.xlabel('iterations')\n",
    "plt.ylabel('loss')\n",
    "plt.show()"
   ]
  },
  {
   "cell_type": "markdown",
   "id": "e14cb631-3d7f-4cd8-89fe-6eeb608e6e2f",
   "metadata": {},
   "source": [
    "# Iris Classification"
   ]
  },
  {
   "cell_type": "code",
   "execution_count": 75,
   "id": "c3b80754-e28a-431f-8253-f0e1ec722dba",
   "metadata": {},
   "outputs": [],
   "source": [
    "import numpy as np\n",
    "import matplotlib.pyplot as plt\n",
    "import tensorflow as tf\n",
    "import tensorflow_datasets as tfds"
   ]
  },
  {
   "cell_type": "code",
   "execution_count": 76,
   "id": "b67badbb-73b0-4347-96e6-d218da274b46",
   "metadata": {},
   "outputs": [],
   "source": [
    "batch_size = 20\n",
    "iris = tfds.load('iris', split='train[:90%]', as_supervised=True)\n",
    "iris_test = tfds.load('iris', split='train[90%:]', as_supervised=True)\n",
    "\n",
    "def iris2d(features, label):\n",
    "    return features[2:], tf.cast((label == 0), dtype=tf.float32)\n",
    "\n",
    "train_generator = (iris\n",
    " .map(iris2d)\n",
    " .shuffle(buffer_size=100)\n",
    " .batch(batch_size)\n",
    " )\n",
    "test_generator = iris_test.map(iris2d).batch(1)"
   ]
  },
  {
   "cell_type": "code",
   "execution_count": 77,
   "id": "703eb32d-6ba9-48aa-b49a-dc0abdd10fdb",
   "metadata": {},
   "outputs": [],
   "source": [
    "def cross_entropy_sigmoid(y_true, y_pred):\n",
    "        return tf.nn.sigmoid_cross_entropy_with_logits(labels=y_true, logits=y_pred)"
   ]
  },
  {
   "cell_type": "code",
   "execution_count": 78,
   "id": "dd668749-41d7-4ef9-ae56-e796e4ae0cd7",
   "metadata": {},
   "outputs": [],
   "source": [
    "def linear_model(X, A, b):\n",
    "    my_output = tf.add(tf.matmul(X, A), b) \n",
    "    return tf.squeeze(my_output)"
   ]
  },
  {
   "cell_type": "code",
   "execution_count": 79,
   "id": "683d0eda-261c-49e9-a2a7-bb92a6531a46",
   "metadata": {},
   "outputs": [],
   "source": [
    "def loss(y_true, y_pred):\n",
    "    return tf.reduce_mean(tf.nn.sigmoid_cross_entropy_with_logits(labels=y_true, logits=y_pred))"
   ]
  },
  {
   "cell_type": "code",
   "execution_count": 80,
   "id": "be7c40b7-b3ea-4de0-8f65-4ea48fd219de",
   "metadata": {},
   "outputs": [],
   "source": [
    "opt = tf.optimizers.SGD(learning_rate=0.02)"
   ]
  },
  {
   "cell_type": "code",
   "execution_count": 85,
   "id": "ad352dd6-897b-492e-8644-9d0a888a0608",
   "metadata": {},
   "outputs": [
    {
     "name": "stdout",
     "output_type": "stream",
     "text": [
      "Steps: 25\n",
      "Loss: 0.3432738482952118\n",
      "Steps: 50\n",
      "Loss: 0.34702175855636597\n",
      "Steps: 75\n",
      "Loss: 0.18604129552841187\n",
      "Steps: 100\n",
      "Loss: 0.2531917989253998\n",
      "Steps: 125\n",
      "Loss: 0.13726215064525604\n",
      "Steps: 150\n",
      "Loss: 0.20994043350219727\n",
      "Steps: 175\n",
      "Loss: 0.1982346475124359\n",
      "Steps: 200\n",
      "Loss: 0.13270306587219238\n",
      "Steps: 225\n",
      "Loss: 0.11087305098772049\n",
      "Steps: 250\n",
      "Loss: 0.1509561836719513\n",
      "Steps: 275\n",
      "Loss: 0.12614016234874725\n",
      "Steps: 300\n",
      "Loss: 0.10142426192760468\n"
     ]
    }
   ],
   "source": [
    "tf.random.set_seed(1)\n",
    "np.random.seed(0)\n",
    "weights = tf.Variable(tf.random.normal(shape=[2, 1]))\n",
    "bias = tf.Variable(tf.random.normal(shape=[1]))\n",
    "history = list()\n",
    "\n",
    "for i in range(300):\n",
    "    iteration_loss = list()\n",
    "    for features, label in train_generator:\n",
    "        with tf.GradientTape() as tape:\n",
    "            predictions = linear_model(features, weights, bias)\n",
    "            loss_ = loss(label, predictions)\n",
    "        iteration_loss.append(loss_.numpy())\n",
    "        gradients = tape.gradient(loss_, [weights, bias])\n",
    "        opt.apply_gradients(zip(gradients, [weights, bias]))\n",
    "    history.append(np.mean(iteration_loss))\n",
    "    if (i+1) % 25 == 0:\n",
    "        print(f\"Steps: {i+1}\")\n",
    "        print(f\"Loss: {loss_.numpy()}\")"
   ]
  },
  {
   "cell_type": "code",
   "execution_count": 86,
   "id": "6b9e1e4a-f4bc-4fa6-b742-3072f15549c1",
   "metadata": {},
   "outputs": [
    {
     "data": {
      "image/png": "[encoded data removed]",
      "text/plain": [
       "<Figure size 432x288 with 1 Axes>"
      ]
     },
     "metadata": {
      "needs_background": "light"
     },
     "output_type": "display_data"
    }
   ],
   "source": [
    "plt.plot(history)\n",
    "plt.xlabel('iterations')\n",
    "plt.ylabel('loss')\n",
    "plt.show()"
   ]
  },
  {
   "cell_type": "code",
   "execution_count": 87,
   "id": "1a4660ae-c3e6-4e36-b313-297e66dd5eec",
   "metadata": {},
   "outputs": [
    {
     "data": {
      "text/plain": [
       "0.1022849"
      ]
     },
     "execution_count": 87,
     "metadata": {},
     "output_type": "execute_result"
    }
   ],
   "source": [
    "# test\n",
    "\n",
    "predictions = list()\n",
    "labels = list()\n",
    "\n",
    "for features, label in test_generator:\n",
    "    predictions.append(linear_model(features, weights, bias))\n",
    "    labels.append(label.numpy()[0])\n",
    "    \n",
    "test_loss = loss(np.array(labels), np.array(predictions)).numpy()\n",
    "test_loss"
   ]
  },
  {
   "cell_type": "code",
   "execution_count": null,
   "id": "50d12ad4-4ed6-4af6-98fb-ed76ae9b2cc4",
   "metadata": {},
   "outputs": [],
   "source": []
  }
 ],
 "metadata": {
  "kernelspec": {
   "display_name": "Python 3 (ipykernel)",
   "language": "python",
   "name": "python3"
  },
  "language_info": {
   "codemirror_mode": {
    "name": "ipython",
    "version": 3
   },
   "file_extension": ".py",
   "mimetype": "text/x-python",
   "name": "python",
   "nbconvert_exporter": "python",
   "pygments_lexer": "ipython3",
   "version": "3.10.6"
  }
 },
 "nbformat": 4,
 "nbformat_minor": 5
}
