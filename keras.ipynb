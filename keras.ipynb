{
 "cells": [
  {
   "cell_type": "markdown",
   "id": "3d84fdd3-34db-41d7-a9b6-906ecdb1c3ae",
   "metadata": {},
   "source": [
    "# Sequential API"
   ]
  },
  {
   "cell_type": "code",
   "execution_count": 2,
   "id": "f1169f7a-9e42-4bbc-968f-17fd758e4ba0",
   "metadata": {},
   "outputs": [],
   "source": [
    "import tensorflow as tf\n",
    "from tensorflow import keras\n",
    "import numpy as np\n",
    "from tensorflow.keras import layers"
   ]
  },
  {
   "cell_type": "code",
   "execution_count": 4,
   "id": "7f000461-30cd-46d4-ba9a-e9a6878574fd",
   "metadata": {},
   "outputs": [],
   "source": [
    "model = keras.Sequential([\n",
    "    layers.Dense(1024, input_dim=64),\n",
    "    layers.Activation('relu'),\n",
    "    layers.Dense(256),\n",
    "    layers.Activation('relu'),\n",
    "    layers.Dense(10),\n",
    "    layers.Activation('softmax')\n",
    "])\n",
    "\n",
    "model.compile(\n",
    "    optimizer=\"adam\",\n",
    "    loss=\"categorical_crossentropy\",\n",
    "    metrics=[\"accuracy\"]\n",
    "    )"
   ]
  },
  {
   "cell_type": "code",
   "execution_count": 8,
   "id": "0ccb1c1a-8504-47c6-9061-17cdeb61ec56",
   "metadata": {},
   "outputs": [],
   "source": [
    "# create toy data\n",
    "\n",
    "data = np.random.random((2000, 64))\n",
    "labels = np.random.random((2000, 10))\n",
    "\n",
    "val_data = np.random.random((500, 64))\n",
    "val_labels = np.random.random((500, 10))\n",
    "\n",
    "test_data = np.random.random((500, 64))\n",
    "test_labels = np.random.random((500, 10))"
   ]
  },
  {
   "cell_type": "code",
   "execution_count": 12,
   "id": "5f716e9f-5920-4237-9cfb-4ab5848842d1",
   "metadata": {},
   "outputs": [
    {
     "name": "stdout",
     "output_type": "stream",
     "text": [
      "Epoch 1/10\n",
      "40/40 [==============================] - 0s 11ms/step - loss: 8666.6240 - accuracy: 0.0960 - val_loss: 9428.1260 - val_accuracy: 0.1020\n",
      "Epoch 2/10\n",
      "40/40 [==============================] - 0s 6ms/step - loss: 9135.3896 - accuracy: 0.0975 - val_loss: 8992.9219 - val_accuracy: 0.0980\n",
      "Epoch 3/10\n",
      "40/40 [==============================] - 0s 6ms/step - loss: 11083.7324 - accuracy: 0.1090 - val_loss: 12305.4160 - val_accuracy: 0.1140\n",
      "Epoch 4/10\n",
      "40/40 [==============================] - 0s 6ms/step - loss: 12269.0830 - accuracy: 0.0950 - val_loss: 13979.0146 - val_accuracy: 0.1200\n",
      "Epoch 5/10\n",
      "40/40 [==============================] - 0s 6ms/step - loss: 17520.0723 - accuracy: 0.0895 - val_loss: 18574.0898 - val_accuracy: 0.1140\n",
      "Epoch 6/10\n",
      "40/40 [==============================] - 0s 6ms/step - loss: 16644.1562 - accuracy: 0.1075 - val_loss: 13319.4922 - val_accuracy: 0.0940\n",
      "Epoch 7/10\n",
      "40/40 [==============================] - 0s 6ms/step - loss: 18804.5684 - accuracy: 0.0935 - val_loss: 28285.3457 - val_accuracy: 0.0960\n",
      "Epoch 8/10\n",
      "40/40 [==============================] - 0s 6ms/step - loss: 23299.0742 - accuracy: 0.1020 - val_loss: 18347.8223 - val_accuracy: 0.0800\n",
      "Epoch 9/10\n",
      "40/40 [==============================] - 0s 6ms/step - loss: 28965.3340 - accuracy: 0.1030 - val_loss: 29495.2422 - val_accuracy: 0.0800\n",
      "Epoch 10/10\n",
      "40/40 [==============================] - 0s 6ms/step - loss: 28210.8867 - accuracy: 0.1015 - val_loss: 23775.1211 - val_accuracy: 0.0920\n"
     ]
    },
    {
     "data": {
      "text/plain": [
       "<keras.callbacks.History at 0x209a1c911b0>"
      ]
     },
     "execution_count": 12,
     "metadata": {},
     "output_type": "execute_result"
    }
   ],
   "source": [
    "model.fit(data, \n",
    "          labels, \n",
    "          epochs=10, \n",
    "          batch_size=50,\n",
    "          validation_data=(val_data, val_labels)\n",
    "         )"
   ]
  },
  {
   "cell_type": "code",
   "execution_count": 13,
   "id": "b9d86416-bdc6-44a9-80e2-2ede2f99422a",
   "metadata": {},
   "outputs": [
    {
     "name": "stdout",
     "output_type": "stream",
     "text": [
      "40/40 [==============================] - 0s 3ms/step - loss: 23941.1367 - accuracy: 0.0870\n"
     ]
    },
    {
     "data": {
      "text/plain": [
       "[23941.13671875, 0.08699999749660492]"
      ]
     },
     "execution_count": 13,
     "metadata": {},
     "output_type": "execute_result"
    }
   ],
   "source": [
    "model.evaluate(data, labels, batch_size=50)"
   ]
  },
  {
   "cell_type": "code",
   "execution_count": null,
   "id": "ea440398-8139-478f-aec8-5d9754d59771",
   "metadata": {},
   "outputs": [],
   "source": [
    "result = model.predict(data, batch_size=50)\n",
    "result"
   ]
  },
  {
   "cell_type": "markdown",
   "id": "36eb111d-fb98-493f-9681-5b926a77a1da",
   "metadata": {},
   "source": [
    "# Functional API"
   ]
  },
  {
   "cell_type": "code",
   "execution_count": 25,
   "id": "27b3a326-9342-4bdc-b21f-36bc606e1349",
   "metadata": {},
   "outputs": [],
   "source": [
    "import tensorflow as tf\n",
    "from tensorflow import keras\n",
    "from tensorflow.keras import layers\n",
    "from tensorflow.keras import models"
   ]
  },
  {
   "cell_type": "code",
   "execution_count": 26,
   "id": "c391648a-ee6e-4c84-a62a-109bf876869f",
   "metadata": {},
   "outputs": [],
   "source": [
    "mnist = keras.datasets.mnist\n",
    "(X_train, y_train), (X_test, y_test) = mnist.load_data()"
   ]
  },
  {
   "cell_type": "code",
   "execution_count": 27,
   "id": "f20d5e45-402e-4201-ac36-7d1de1bca30e",
   "metadata": {},
   "outputs": [
    {
     "data": {
      "text/plain": [
       "((60000, 28, 28), (60000,), (10000, 28, 28), (10000,))"
      ]
     },
     "execution_count": 27,
     "metadata": {},
     "output_type": "execute_result"
    }
   ],
   "source": [
    "X_train.shape, y_train.shape, X_test.shape, y_test.shape"
   ]
  },
  {
   "cell_type": "code",
   "execution_count": 31,
   "id": "66d06042-9522-46fc-a7eb-97a08f706b2f",
   "metadata": {},
   "outputs": [
    {
     "name": "stdout",
     "output_type": "stream",
     "text": [
      "Model: \"model\"\n",
      "_________________________________________________________________\n",
      " Layer (type)                Output Shape              Param #   \n",
      "=================================================================\n",
      " input_3 (InputLayer)        [(None, 28, 28)]          0         \n",
      "                                                                 \n",
      " flatten_2 (Flatten)         (None, 784)               0         \n",
      "                                                                 \n",
      " dense_8 (Dense)             (None, 50)                39250     \n",
      "                                                                 \n",
      " dense_9 (Dense)             (None, 10)                510       \n",
      "                                                                 \n",
      "=================================================================\n",
      "Total params: 39,760\n",
      "Trainable params: 39,760\n",
      "Non-trainable params: 0\n",
      "_________________________________________________________________\n"
     ]
    }
   ],
   "source": [
    "inputs = keras.Input(shape=(28, 28))\n",
    "flatten = layers.Flatten()\n",
    "dense_layer = layers.Dense(50, activation='relu')\n",
    "\n",
    "flatten_output = flatten(inputs)\n",
    "dense_output = dense_layer(flatten_output)\n",
    "predictions = layers.Dense(10, activation='softmax')(dense_output)\n",
    "model = keras.Model(inputs=inputs, outputs=predictions)\n",
    "model.summary()"
   ]
  },
  {
   "cell_type": "code",
   "execution_count": 32,
   "id": "5ecc6ca8-6f89-4a14-ad30-b7d81ea8ea30",
   "metadata": {},
   "outputs": [
    {
     "name": "stdout",
     "output_type": "stream",
     "text": [
      "Epoch 1/10\n",
      "1875/1875 [==============================] - 6s 3ms/step - loss: 16.5755 - accuracy: 0.2182 - val_loss: 2.0345 - val_accuracy: 0.2076\n",
      "Epoch 2/10\n",
      "1875/1875 [==============================] - 6s 3ms/step - loss: 2.0638 - accuracy: 0.2031 - val_loss: 2.0304 - val_accuracy: 0.2037\n",
      "Epoch 3/10\n",
      "1875/1875 [==============================] - 6s 3ms/step - loss: 2.0158 - accuracy: 0.2185 - val_loss: 1.9630 - val_accuracy: 0.2380\n",
      "Epoch 4/10\n",
      "1875/1875 [==============================] - 6s 3ms/step - loss: 1.9969 - accuracy: 0.2383 - val_loss: 1.9663 - val_accuracy: 0.2286\n",
      "Epoch 5/10\n",
      "1875/1875 [==============================] - 6s 3ms/step - loss: 2.0251 - accuracy: 0.2262 - val_loss: 2.1834 - val_accuracy: 0.1627\n",
      "Epoch 6/10\n",
      "1875/1875 [==============================] - 6s 3ms/step - loss: 2.1332 - accuracy: 0.1938 - val_loss: 2.0904 - val_accuracy: 0.1984\n",
      "Epoch 7/10\n",
      "1875/1875 [==============================] - 6s 3ms/step - loss: 2.1163 - accuracy: 0.1979 - val_loss: 2.0697 - val_accuracy: 0.2000\n",
      "Epoch 8/10\n",
      "1875/1875 [==============================] - 6s 3ms/step - loss: 2.0853 - accuracy: 0.2122 - val_loss: 2.0159 - val_accuracy: 0.2265\n",
      "Epoch 9/10\n",
      "1875/1875 [==============================] - 6s 3ms/step - loss: 2.1690 - accuracy: 0.1852 - val_loss: 2.2636 - val_accuracy: 0.1336\n",
      "Epoch 10/10\n",
      "1875/1875 [==============================] - 6s 3ms/step - loss: 2.1416 - accuracy: 0.1767 - val_loss: 2.1199 - val_accuracy: 0.1769\n"
     ]
    },
    {
     "data": {
      "text/plain": [
       "<keras.callbacks.History at 0x209a7afff40>"
      ]
     },
     "execution_count": 32,
     "metadata": {},
     "output_type": "execute_result"
    }
   ],
   "source": [
    "model.compile(\n",
    "    optimizer=\"sgd\",\n",
    "    loss=\"sparse_categorical_crossentropy\",\n",
    "    metrics=[\"accuracy\"]\n",
    "    )\n",
    "\n",
    "model.fit(\n",
    "    X_train, \n",
    "    y_train,\n",
    "    validation_data=(X_train, y_train),\n",
    "    epochs=10\n",
    "    )"
   ]
  },
  {
   "cell_type": "code",
   "execution_count": 37,
   "id": "ddf1e1be-0be4-4f47-8cce-ad096f7030a7",
   "metadata": {},
   "outputs": [
    {
     "name": "stdout",
     "output_type": "stream",
     "text": [
      "200/200 [==============================] - 1s 4ms/step - loss: 2.1320 - accuracy: 0.1752\n"
     ]
    },
    {
     "data": {
      "text/plain": [
       "[2.132014751434326, 0.17520000040531158]"
      ]
     },
     "execution_count": 37,
     "metadata": {},
     "output_type": "execute_result"
    }
   ],
   "source": [
    "model.evaluate(X_test, y_test, batch_size=50)"
   ]
  },
  {
   "cell_type": "markdown",
   "id": "84aa9b16-96b0-4fd2-8d8c-7382951c5a29",
   "metadata": {
    "tags": []
   },
   "source": [
    "## House data"
   ]
  },
  {
   "cell_type": "code",
   "execution_count": 7,
   "id": "fa525e38-8d88-4a31-b276-fe8bd4859c1d",
   "metadata": {},
   "outputs": [],
   "source": [
    "import tensorflow as tf\n",
    "from tensorflow import keras\n",
    "from tensorflow.keras import layers\n",
    "from tensorflow.keras import models"
   ]
  },
  {
   "cell_type": "code",
   "execution_count": 8,
   "id": "192bf4dd-908a-4b4d-bdab-e91d9b14d449",
   "metadata": {},
   "outputs": [],
   "source": [
    "house_data_inputs = layers.Input(shape=(128,), name=\"house_data\")\n",
    "x1 = layers.Dense(64, activation=\"relu\")(house_data_inputs)\n",
    "block_1_output = layers.Dense(32, activation=\"relu\")(x1)"
   ]
  },
  {
   "cell_type": "code",
   "execution_count": 9,
   "id": "b14f14d2-1b9d-4573-bd9f-14a901ff06d2",
   "metadata": {},
   "outputs": [],
   "source": [
    "house_pic_inputs = layers.Input(shape=(128, 128, 3))\n",
    "x = layers.Conv2D(64, 3, activation=\"relu\", padding=\"same\")(house_pic_inputs)\n",
    "x = layers.Conv2D(64, 3, activation=\"relu\", padding=\"same\")(x)\n",
    "block_2_output = layers.Flatten()(x)"
   ]
  },
  {
   "cell_type": "code",
   "execution_count": 10,
   "id": "f6b83d27-1586-41b2-aed9-3e74e0142172",
   "metadata": {},
   "outputs": [],
   "source": [
    "x = layers.concatenate([block_1_output, block_2_output])\n",
    "price_pred = layers.Dense(1, name=\"price\", activation=\"relu\")(x)\n",
    "time_elapsed_price = layers.Dense(2, name=\"elapsed_time\", activation=\"softmax\")(x)"
   ]
  },
  {
   "cell_type": "code",
   "execution_count": 11,
   "id": "7f6cd980-6c37-4776-84ce-bfea7bee31d2",
   "metadata": {},
   "outputs": [],
   "source": [
    "model = keras.Model(\n",
    "    [house_data_inputs, house_pic_inputs],\n",
    "    [price_pred, time_elapsed_price],\n",
    "    name=\"house_price_prediction\"\n",
    "    )"
   ]
  },
  {
   "cell_type": "markdown",
   "id": "aaafe9f8-68a1-4a7d-8c0c-0b511884110b",
   "metadata": {},
   "source": [
    "## Extracting reusing layers"
   ]
  },
  {
   "cell_type": "code",
   "execution_count": 15,
   "id": "845ad9eb-b8fe-410a-82e5-831239c7fba7",
   "metadata": {},
   "outputs": [],
   "source": [
    "resnet = keras.applications.resnet.ResNet50()"
   ]
  },
  {
   "cell_type": "code",
   "execution_count": 16,
   "id": "3c167119-9b13-4149-baa8-2f12a4213d47",
   "metadata": {},
   "outputs": [],
   "source": [
    "intermediate_layers = [layer.output for layer in resnet.layers]"
   ]
  },
  {
   "cell_type": "code",
   "execution_count": 18,
   "id": "5095e6c2-02e4-4f29-8c22-9e45f7ff3f54",
   "metadata": {},
   "outputs": [],
   "source": [
    "feature_layers = intermediate_layers[:-2]"
   ]
  },
  {
   "cell_type": "code",
   "execution_count": 19,
   "id": "95fe50b5-541e-44a5-aeef-6c2a541272b0",
   "metadata": {},
   "outputs": [],
   "source": [
    "feat_extaction_model = keras.Model(inputs=resnet.input, outputs=feature_layers)"
   ]
  },
  {
   "cell_type": "markdown",
   "id": "0247d971-fcbc-44ed-9bc3-f19eb38301b0",
   "metadata": {},
   "source": [
    "# Preprocessing layers"
   ]
  },
  {
   "cell_type": "code",
   "execution_count": 22,
   "id": "f85b2cd0-7662-4951-8bf7-169914d12c5f",
   "metadata": {},
   "outputs": [],
   "source": [
    "import tensorflow as tf\n",
    "from tensorflow import keras\n",
    "import numpy as np\n",
    "from tensorflow.keras.preprocessing.sequence import TimeseriesGenerator, pad_sequences, skipgrams, make_sampling_table\n",
    "from tensorflow.keras.preprocessing.text import text_to_word_sequence, one_hot, hashing_trick, Tokenizer\n",
    "from tensorflow.keras.models import Sequential\n",
    "from tensorflow.keras.layers import Dense"
   ]
  },
  {
   "cell_type": "code",
   "execution_count": 23,
   "id": "dabdbca6-3c5f-4fa2-ae66-94d2138a495e",
   "metadata": {},
   "outputs": [
    {
     "data": {
      "text/plain": [
       "array([0, 1, 2, 3, 4, 5, 6, 7, 8, 9])"
      ]
     },
     "execution_count": 23,
     "metadata": {},
     "output_type": "execute_result"
    }
   ],
   "source": [
    "series = np.array([i for i in range(10)])\n",
    "series"
   ]
  },
  {
   "cell_type": "code",
   "execution_count": 39,
   "id": "1f91f17c-55b6-45c0-9f4b-f990f7fa6bb9",
   "metadata": {},
   "outputs": [],
   "source": [
    "generator = TimeseriesGenerator(\n",
    "    data=series,\n",
    "    targets=series,\n",
    "    length=5,\n",
    "    batch_size=1,\n",
    "    shuffle=False,\n",
    "    reverse=False\n",
    "    )"
   ]
  },
  {
   "cell_type": "code",
   "execution_count": 40,
   "id": "b446b91f-c389-4f92-afd3-a08155fd8a8f",
   "metadata": {},
   "outputs": [
    {
     "name": "stdout",
     "output_type": "stream",
     "text": [
      "[[0 1 2 3 4]] -> [5]\n",
      "[[1 2 3 4 5]] -> [6]\n",
      "[[2 3 4 5 6]] -> [7]\n",
      "[[3 4 5 6 7]] -> [8]\n",
      "[[4 5 6 7 8]] -> [9]\n"
     ]
    }
   ],
   "source": [
    "for i in range(len(generator)):\n",
    "    x, y = generator[i]\n",
    "    print(f\"{x} -> {y}\")"
   ]
  },
  {
   "cell_type": "code",
   "execution_count": 41,
   "id": "3c318464-0838-4ef1-861b-25485ebf7748",
   "metadata": {},
   "outputs": [],
   "source": [
    "model = Sequential()\n",
    "model.add(Dense(10, activation=\"relu\", input_dim=5))\n",
    "model.add(Dense(1))\n",
    "model.compile(optimizer=\"adam\", loss=\"mse\")"
   ]
  },
  {
   "cell_type": "code",
   "execution_count": 42,
   "id": "7205c1f2-fc6b-4357-83db-f6b6cc0ffb12",
   "metadata": {},
   "outputs": [
    {
     "name": "stdout",
     "output_type": "stream",
     "text": [
      "Model: \"sequential_1\"\n",
      "_________________________________________________________________\n",
      " Layer (type)                Output Shape              Param #   \n",
      "=================================================================\n",
      " dense_6 (Dense)             (None, 10)                60        \n",
      "                                                                 \n",
      " dense_7 (Dense)             (None, 1)                 11        \n",
      "                                                                 \n",
      "=================================================================\n",
      "Total params: 71\n",
      "Trainable params: 71\n",
      "Non-trainable params: 0\n",
      "_________________________________________________________________\n"
     ]
    }
   ],
   "source": [
    "model.summary()"
   ]
  },
  {
   "cell_type": "code",
   "execution_count": null,
   "id": "a7987bd6-63de-421e-a031-d2f6b2a5400a",
   "metadata": {},
   "outputs": [],
   "source": [
    "model.fit(generator, epochs=100)"
   ]
  },
  {
   "cell_type": "code",
   "execution_count": 47,
   "id": "42b810b4-f899-4bed-9131-d9d3a3d96fa8",
   "metadata": {},
   "outputs": [
    {
     "name": "stdout",
     "output_type": "stream",
     "text": [
      "1/1 [==============================] - 0s 80ms/step\n"
     ]
    },
    {
     "data": {
      "text/plain": [
       "array([[10.964103]], dtype=float32)"
      ]
     },
     "execution_count": 47,
     "metadata": {},
     "output_type": "execute_result"
    }
   ],
   "source": [
    "model.predict([[3 ,4, 5, 8, 9]])"
   ]
  },
  {
   "cell_type": "code",
   "execution_count": 48,
   "id": "c1b854e5-23c4-40a1-9dea-ef8e821ddf59",
   "metadata": {},
   "outputs": [],
   "source": [
    "sentences = [[\"What\", \"do\", \"you\", \"like\", \"?\"],\n",
    " [\"I\", \"like\", \"basket-ball\", \"!\"],\n",
    " [\"And\", \"you\", \"?\"],\n",
    " [\"I\", \"like\", \"coconut\", \"and\", \"apple\"]]"
   ]
  },
  {
   "cell_type": "code",
   "execution_count": 53,
   "id": "d4378c9f-9e42-4a8b-a816-8b4a4b3e9430",
   "metadata": {},
   "outputs": [],
   "source": [
    "text_set = set(np.concatenate(sentences))\n",
    "vocab_to_int = dict(zip(text_set, range(len(text_set))))\n",
    "int_to_vocab = {vocab_to_int[word]: word for word in vocab_to_int.keys()}"
   ]
  },
  {
   "cell_type": "code",
   "execution_count": 54,
   "id": "aa68652b-09e4-4687-87fe-298e536f32b8",
   "metadata": {},
   "outputs": [],
   "source": [
    "encoded_sentences = list()\n",
    "for sentence in sentences:\n",
    "    encoded_sentence = [vocab_to_int[word] for word in sentence]\n",
    "    encoded_sentences.append(encoded_sentence)"
   ]
  },
  {
   "cell_type": "code",
   "execution_count": 60,
   "id": "705141fb-4992-464a-bbd0-bafd2b237d1d",
   "metadata": {},
   "outputs": [
    {
     "data": {
      "text/plain": [
       "[[5, 6, 10, 3, 11], [2, 3, 1, 9], [7, 10, 11], [2, 3, 4, 8, 0]]"
      ]
     },
     "execution_count": 60,
     "metadata": {},
     "output_type": "execute_result"
    }
   ],
   "source": [
    "encoded_sentences"
   ]
  },
  {
   "cell_type": "code",
   "execution_count": 61,
   "id": "e6e32571-3606-40b9-afe5-c5d130864578",
   "metadata": {},
   "outputs": [
    {
     "data": {
      "text/plain": [
       "array([[ 0,  0,  5,  6, 10,  3, 11],\n",
       "       [ 0,  0,  0,  2,  3,  1,  9],\n",
       "       [ 0,  0,  0,  0,  7, 10, 11],\n",
       "       [ 0,  0,  2,  3,  4,  8,  0]])"
      ]
     },
     "execution_count": 61,
     "metadata": {},
     "output_type": "execute_result"
    }
   ],
   "source": [
    "pad_sequences(encoded_sentences, maxlen=7, truncating=\"post\")"
   ]
  },
  {
   "cell_type": "markdown",
   "id": "dffcd938-3153-460d-a118-f1a3403fd579",
   "metadata": {},
   "source": [
    "## Skip Grams"
   ]
  },
  {
   "cell_type": "code",
   "execution_count": 62,
   "id": "35dc7a58-57db-43c0-92d6-d75a7b88796a",
   "metadata": {},
   "outputs": [],
   "source": [
    "sentence = \"I like coconut and apple\"\n",
    "encoded_sentence = [vocab_to_int[word] for word in sentence.split()]\n",
    "vocabulary_size = len(encoded_sentence)"
   ]
  },
  {
   "cell_type": "code",
   "execution_count": 63,
   "id": "2530adec-2f19-4068-bc51-576d6c93ec5c",
   "metadata": {},
   "outputs": [],
   "source": [
    "pairs, labels = skipgrams(encoded_sentence,\n",
    "                         vocabulary_size,\n",
    "                         window_size=1,\n",
    "                         negative_samples=0)"
   ]
  },
  {
   "cell_type": "code",
   "execution_count": 67,
   "id": "dc638834-87ca-45fb-8f27-9df0a63c5d2c",
   "metadata": {},
   "outputs": [
    {
     "name": "stdout",
     "output_type": "stream",
     "text": [
      "like, I -> 1\n",
      "coconut, and -> 1\n",
      "coconut, like -> 1\n",
      "like, coconut -> 1\n",
      "I, like -> 1\n",
      "and, coconut -> 1\n"
     ]
    }
   ],
   "source": [
    "for i in range(len(pairs)):\n",
    "    print(f\"{int_to_vocab[pairs[i][0]]}, {int_to_vocab[pairs[i][1]]} -> {labels[i]}\")"
   ]
  },
  {
   "cell_type": "markdown",
   "id": "ac3a6c85-74dc-491a-b7be-58691a0e84a3",
   "metadata": {},
   "source": [
    "## Text preprocessing"
   ]
  },
  {
   "cell_type": "markdown",
   "id": "fd64942b-019b-4370-98ad-a9eae1d07644",
   "metadata": {},
   "source": [
    "### Split text to word sequence"
   ]
  },
  {
   "cell_type": "code",
   "execution_count": 68,
   "id": "4b84df54-463f-4162-9b6d-85189edc91e8",
   "metadata": {},
   "outputs": [
    {
     "data": {
      "text/plain": [
       "['I', 'like', 'coconut', 'I', 'like', 'apple']"
      ]
     },
     "execution_count": 68,
     "metadata": {},
     "output_type": "execute_result"
    }
   ],
   "source": [
    "sentence = \"I like coconut, I like apple\"\n",
    "\n",
    "text_to_word_sequence(sentence, lower=False)"
   ]
  },
  {
   "cell_type": "code",
   "execution_count": 70,
   "id": "693e016a-d81f-4517-8db1-10bae5ed0f9b",
   "metadata": {},
   "outputs": [
    {
     "data": {
      "text/plain": [
       "['i', 'like', 'coconut,', 'i', 'like', 'apple']"
      ]
     },
     "execution_count": 70,
     "metadata": {},
     "output_type": "execute_result"
    }
   ],
   "source": [
    "text_to_word_sequence(sentence, lower=True, filters=[])"
   ]
  },
  {
   "cell_type": "markdown",
   "id": "2297b16c-a51c-4f5d-b547-8efc14deacda",
   "metadata": {},
   "source": [
    "### Tokenizer"
   ]
  },
  {
   "cell_type": "code",
   "execution_count": 71,
   "id": "7f84d07f-b5a4-4807-a5c1-d1f66e617aee",
   "metadata": {},
   "outputs": [],
   "source": [
    "sentences = [[\"What\", \"do\", \"you\", \"like\", \"?\"],\n",
    " [\"I\", \"like\", \"basket-ball\", \"!\"],\n",
    " [\"And\", \"you\", \"?\"],\n",
    " [\"I\", \"like\", \"coconut\", \"and\", \"apple\"]]"
   ]
  },
  {
   "cell_type": "code",
   "execution_count": 72,
   "id": "1cd5298e-5923-4187-b655-6a1e41c4ab06",
   "metadata": {},
   "outputs": [],
   "source": [
    "t = Tokenizer()\n",
    "t.fit_on_texts(sentences)"
   ]
  },
  {
   "cell_type": "code",
   "execution_count": 74,
   "id": "1c1dd242-0c22-4860-9803-d4f52359d611",
   "metadata": {},
   "outputs": [
    {
     "data": {
      "text/plain": [
       "OrderedDict([('what', 1),\n",
       "             ('do', 1),\n",
       "             ('you', 2),\n",
       "             ('like', 3),\n",
       "             ('?', 2),\n",
       "             ('i', 2),\n",
       "             ('basket-ball', 1),\n",
       "             ('!', 1),\n",
       "             ('and', 2),\n",
       "             ('coconut', 1),\n",
       "             ('apple', 1)])"
      ]
     },
     "execution_count": 74,
     "metadata": {},
     "output_type": "execute_result"
    }
   ],
   "source": [
    "t.word_counts"
   ]
  },
  {
   "cell_type": "markdown",
   "id": "e9241e14-8064-4543-acea-b4a7e8199430",
   "metadata": {
    "jp-MarkdownHeadingCollapsed": true,
    "tags": []
   },
   "source": [
    "## Image Preprocessing"
   ]
  },
  {
   "cell_type": "code",
   "execution_count": 75,
   "id": "62eaaf79-7d1a-40a6-9ae7-d120270486c4",
   "metadata": {},
   "outputs": [
    {
     "name": "stdout",
     "output_type": "stream",
     "text": [
      "Downloading data from https://www.cs.toronto.edu/~kriz/cifar-10-python.tar.gz\n",
      "170498071/170498071 [==============================] - 46s 0us/step\n"
     ]
    }
   ],
   "source": [
    "(x_cifar10_train, y_cifar10_train), (x_cifar10_test, y_cifar10_test) = keras.datasets.cifar10.load_data()"
   ]
  },
  {
   "cell_type": "code",
   "execution_count": 78,
   "id": "2c852416-ae1e-4f64-800b-99ac4441c70a",
   "metadata": {},
   "outputs": [],
   "source": [
    "datagen = keras.preprocessing.image.ImageDataGenerator(rotation_range=15,\n",
    "                                                      width_shift_range=3,\n",
    "                                                      height_shift_range=3,\n",
    "                                                      horizontal_flip=True)"
   ]
  },
  {
   "cell_type": "code",
   "execution_count": 80,
   "id": "c8a26ead-5987-49d9-8e28-8a43590ef6e0",
   "metadata": {},
   "outputs": [],
   "source": [
    "it = datagen.flow(x_cifar10_train, y_cifar10_train, batch_size=32)"
   ]
  },
  {
   "cell_type": "code",
   "execution_count": 99,
   "id": "02ac5572-4494-4568-902e-b3bb80d8b30f",
   "metadata": {},
   "outputs": [],
   "source": [
    "model = keras.Sequential([\n",
    "        layers.Conv2D(filters=32, kernel_size=3, padding=\"same\", activation=\"relu\", input_shape=[32, 32, 3]),\n",
    "        layers.Conv2D(filters=32, kernel_size=3, padding=\"same\", activation=\"relu\"),\n",
    "        layers.MaxPool2D(pool_size=2),\n",
    "        layers.Conv2D(filters=64, kernel_size=3, padding=\"same\", activation=\"relu\"),\n",
    "        layers.Conv2D(filters=64, kernel_size=3, padding=\"same\", activation=\"relu\"),\n",
    "        layers.MaxPool2D(pool_size=2),\n",
    "        layers.Flatten(),\n",
    "        layers.Dense(128, activation=\"relu\"),\n",
    "        layers.Dense(10, activation=\"softmax\")\n",
    "])"
   ]
  },
  {
   "cell_type": "code",
   "execution_count": 83,
   "id": "0ad5d2c9-e357-4754-8a8b-a33c9bf22478",
   "metadata": {},
   "outputs": [],
   "source": [
    "model.compile(loss=\"sparse_categorical_crossentropy\",\n",
    "             optimizer=keras.optimizers.SGD(learning_rate=0.01),\n",
    "             metrics=[\"accuracy\"])"
   ]
  },
  {
   "cell_type": "code",
   "execution_count": null,
   "id": "8ad46811-566f-4e9e-b363-9ab228c43635",
   "metadata": {},
   "outputs": [],
   "source": [
    "history = model.fit(it,\n",
    "                   epochs=10,\n",
    "                   steps_per_epoch=len(x_cifar10_train)/32,\n",
    "                   validation_data=(x_cifar10_test, y_cifar10_test))"
   ]
  },
  {
   "cell_type": "code",
   "execution_count": 96,
   "id": "a60f8bd7-d5a7-430e-8766-7bf4a8e51250",
   "metadata": {},
   "outputs": [],
   "source": [
    "inputs = keras.Input(shape=(32, 32, 3))\n",
    "flatten_layer = layers.Flatten()\n",
    "dense_layer = layers.Dense(128, activation=\"relu\")\n",
    "conv = layers.Conv2D(32, 3, activation=\"relu\", padding=\"same\")\n",
    "conv2 = layers.Conv2D(64, 3, activation=\"relu\", padding=\"same\")\n",
    "maxpool = layers.MaxPool2D(pool_size=2)\n",
    "\n",
    "x = layers.Conv2D(32, 3, activation=\"relu\", padding=\"same\")(inputs)\n",
    "x = conv(x)\n",
    "m = maxpool(x)\n",
    "x = conv2(m)\n",
    "x = conv2(x)\n",
    "m = maxpool(m)\n",
    "output = flatten_layer(m)\n",
    "dense_output = dense_layer(output)\n",
    "prediction = layers.Dense(10, activation=\"softmax\")(dense_output)"
   ]
  },
  {
   "cell_type": "code",
   "execution_count": 97,
   "id": "ab1a7a2d-00ed-43d7-8a9f-72f76444ce54",
   "metadata": {},
   "outputs": [],
   "source": [
    "model = keras.Model(inputs=inputs, outputs=prediction)"
   ]
  },
  {
   "cell_type": "code",
   "execution_count": 98,
   "id": "02e3036a-a0a6-46a6-b5eb-c41d3b5ee050",
   "metadata": {},
   "outputs": [
    {
     "name": "stdout",
     "output_type": "stream",
     "text": [
      "Model: \"model_3\"\n",
      "__________________________________________________________________________________________________\n",
      " Layer (type)                   Output Shape         Param #     Connected to                     \n",
      "==================================================================================================\n",
      " input_10 (InputLayer)          [(None, 32, 32, 3)]  0           []                               \n",
      "                                                                                                  \n",
      " conv2d_20 (Conv2D)             (None, 32, 32, 32)   896         ['input_10[0][0]']               \n",
      "                                                                                                  \n",
      " conv2d_18 (Conv2D)             (None, 32, 32, 32)   9248        ['conv2d_20[0][0]']              \n",
      "                                                                                                  \n",
      " max_pooling2d_8 (MaxPooling2D)  multiple            0           ['conv2d_18[0][0]',              \n",
      "                                                                  'max_pooling2d_8[0][0]']        \n",
      "                                                                                                  \n",
      " flatten_8 (Flatten)            (None, 2048)         0           ['max_pooling2d_8[1][0]']        \n",
      "                                                                                                  \n",
      " dense_16 (Dense)               (None, 128)          262272      ['flatten_8[0][0]']              \n",
      "                                                                                                  \n",
      " dense_17 (Dense)               (None, 10)           1290        ['dense_16[0][0]']               \n",
      "                                                                                                  \n",
      "==================================================================================================\n",
      "Total params: 273,706\n",
      "Trainable params: 273,706\n",
      "Non-trainable params: 0\n",
      "__________________________________________________________________________________________________\n"
     ]
    }
   ],
   "source": [
    "model.summary()"
   ]
  },
  {
   "cell_type": "code",
   "execution_count": null,
   "id": "d60c12da-e427-4e69-8359-02bb9d7efff9",
   "metadata": {},
   "outputs": [],
   "source": [
    "model.compile(loss=\"sparse_categorical_crossentropy\",\n",
    "             optimizer=keras.optimizers.SGD(learning_rate=0.01),\n",
    "             metrics=[\"accuracy\"])\n",
    "\n",
    "history = model.fit(it,\n",
    "                   epochs=10,\n",
    "                   steps_per_epoch=len(x_cifar10_train)/32,\n",
    "                   validation_data=(x_cifar10_test, y_cifar10_test))"
   ]
  },
  {
   "cell_type": "code",
   "execution_count": null,
   "id": "637a6ba1-3b12-4e29-ac32-096bd9c395fc",
   "metadata": {},
   "outputs": [],
   "source": []
  }
 ],
 "metadata": {
  "kernelspec": {
   "display_name": "Python 3 (ipykernel)",
   "language": "python",
   "name": "python3"
  },
  "language_info": {
   "codemirror_mode": {
    "name": "ipython",
    "version": 3
   },
   "file_extension": ".py",
   "mimetype": "text/x-python",
   "name": "python",
   "nbconvert_exporter": "python",
   "pygments_lexer": "ipython3",
   "version": "3.10.6"
  }
 },
 "nbformat": 4,
 "nbformat_minor": 5
}
